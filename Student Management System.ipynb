{
 "cells": [
  {
   "cell_type": "code",
   "execution_count": 1,
   "id": "9fe69c98-cf72-4133-b1d3-74216830e6a5",
   "metadata": {},
   "outputs": [
    {
     "name": "stdout",
     "output_type": "stream",
     "text": [
      "*************************************STUDENT MANAGEMENT SYSTEM*************************************\n",
      "\n",
      " Select your choice\n",
      "1. Register a new student\n",
      "2. Search for a student\n",
      "3. Update student GPA\n",
      "4. Update student Name\n",
      "5. Display all students\n",
      "6. Delete student by ID\n",
      "7. Count and display total number of students\n",
      "8. Count Total Number of male and female students\n",
      "9. Display name and department of top scored student for each department\n",
      "10. Display name and department of top scored female student for each department\n",
      "11. List names of students who scored greater than a given GPA\n",
      "12. Show frequent student names\n",
      "13. Show total number of students in each department\n",
      "14. EXIT\n"
     ]
    },
    {
     "name": "stdin",
     "output_type": "stream",
     "text": [
      "\n",
      " Enter your choice:  1\n"
     ]
    },
    {
     "name": "stdout",
     "output_type": "stream",
     "text": [
      "Registration form\n"
     ]
    },
    {
     "name": "stdin",
     "output_type": "stream",
     "text": [
      "Enter the number of students:  4\n",
      "Enter student id:  DDU140001\n",
      "Enter student name:  Abreham Tola\n",
      "Enter student GPA:  3.7\n",
      "Enter the department:  CS\n",
      "Enter student gender(M/F):  M\n"
     ]
    },
    {
     "name": "stdout",
     "output_type": "stream",
     "text": [
      "Registered successfully continue if any...\n"
     ]
    },
    {
     "name": "stdin",
     "output_type": "stream",
     "text": [
      "Enter student id:  DDU140001\n"
     ]
    },
    {
     "name": "stdout",
     "output_type": "stream",
     "text": [
      "the ID is already exist enter new ID...\n"
     ]
    },
    {
     "name": "stdin",
     "output_type": "stream",
     "text": [
      "Enter student id:  DDU140002\n",
      "Enter student name:  Blen Tariku\n",
      "Enter student GPA:  2.9\n",
      "Enter the department:  SE\n",
      "Enter student gender(M/F):  F\n"
     ]
    },
    {
     "name": "stdout",
     "output_type": "stream",
     "text": [
      "Registered successfully continue if any...\n"
     ]
    },
    {
     "name": "stdin",
     "output_type": "stream",
     "text": [
      "Enter student id:  DDU140003\n",
      "Enter student name:  Getachew Megersa\n",
      "Enter student GPA:  4.1\n"
     ]
    },
    {
     "name": "stdout",
     "output_type": "stream",
     "text": [
      "Please enter the Correct  GPA ...\n"
     ]
    },
    {
     "name": "stdin",
     "output_type": "stream",
     "text": [
      "Enter student GPA:  4\n",
      "Enter the department:  Law\n",
      "Enter student gender(M/F):  M\n"
     ]
    },
    {
     "name": "stdout",
     "output_type": "stream",
     "text": [
      "Registered successfully continue if any...\n"
     ]
    },
    {
     "name": "stdin",
     "output_type": "stream",
     "text": [
      "Enter student id:  DDU140004\n",
      "Enter student name:  Tesfu Seyfe\n",
      "Enter student GPA:  3.4\n",
      "Enter the department:  CS\n",
      "Enter student gender(M/F):  M\n"
     ]
    },
    {
     "name": "stdout",
     "output_type": "stream",
     "text": [
      "Registered successfully continue if any...\n",
      "********************\n",
      "*************************************STUDENT MANAGEMENT SYSTEM*************************************\n",
      "\n",
      " Select your choice\n",
      "1. Register a new student\n",
      "2. Search for a student\n",
      "3. Update student GPA\n",
      "4. Update student Name\n",
      "5. Display all students\n",
      "6. Delete student by ID\n",
      "7. Count and display total number of students\n",
      "8. Count Total Number of male and female students\n",
      "9. Display name and department of top scored student for each department\n",
      "10. Display name and department of top scored female student for each department\n",
      "11. List names of students who scored greater than a given GPA\n",
      "12. Show frequent student names\n",
      "13. Show total number of students in each department\n",
      "14. EXIT\n"
     ]
    },
    {
     "name": "stdin",
     "output_type": "stream",
     "text": [
      "\n",
      " Enter your choice:  2\n",
      "Enter student ID to search:  DDU140002\n"
     ]
    },
    {
     "name": "stdout",
     "output_type": "stream",
     "text": [
      "##### Data found ###########\n",
      "Name: Blen Tariku, GPA: 2.9\n",
      ", Gender: F\n",
      "*************************************STUDENT MANAGEMENT SYSTEM*************************************\n",
      "\n",
      " Select your choice\n",
      "1. Register a new student\n",
      "2. Search for a student\n",
      "3. Update student GPA\n",
      "4. Update student Name\n",
      "5. Display all students\n",
      "6. Delete student by ID\n",
      "7. Count and display total number of students\n",
      "8. Count Total Number of male and female students\n",
      "9. Display name and department of top scored student for each department\n",
      "10. Display name and department of top scored female student for each department\n",
      "11. List names of students who scored greater than a given GPA\n",
      "12. Show frequent student names\n",
      "13. Show total number of students in each department\n",
      "14. EXIT\n"
     ]
    },
    {
     "name": "stdin",
     "output_type": "stream",
     "text": [
      "\n",
      " Enter your choice:  3\n",
      "Enter student ID:  DDU140001\n",
      "Enter corrected New GPA:  3.5\n"
     ]
    },
    {
     "name": "stdout",
     "output_type": "stream",
     "text": [
      "Data of student Abreham Tola updated successfully!\n",
      "*************************************STUDENT MANAGEMENT SYSTEM*************************************\n",
      "\n",
      " Select your choice\n",
      "1. Register a new student\n",
      "2. Search for a student\n",
      "3. Update student GPA\n",
      "4. Update student Name\n",
      "5. Display all students\n",
      "6. Delete student by ID\n",
      "7. Count and display total number of students\n",
      "8. Count Total Number of male and female students\n",
      "9. Display name and department of top scored student for each department\n",
      "10. Display name and department of top scored female student for each department\n",
      "11. List names of students who scored greater than a given GPA\n",
      "12. Show frequent student names\n",
      "13. Show total number of students in each department\n",
      "14. EXIT\n"
     ]
    },
    {
     "name": "stdin",
     "output_type": "stream",
     "text": [
      "\n",
      " Enter your choice:  4\n",
      "Enter student ID:  DDU140003\n",
      "Enter corrected New Name:  Getachew Megeresa\n"
     ]
    },
    {
     "name": "stdout",
     "output_type": "stream",
     "text": [
      "Data of student DDU140003 updated successfully!\n",
      "error in the update name which is there is empty space\n",
      "*************************************STUDENT MANAGEMENT SYSTEM*************************************\n",
      "\n",
      " Select your choice\n",
      "1. Register a new student\n",
      "2. Search for a student\n",
      "3. Update student GPA\n",
      "4. Update student Name\n",
      "5. Display all students\n",
      "6. Delete student by ID\n",
      "7. Count and display total number of students\n",
      "8. Count Total Number of male and female students\n",
      "9. Display name and department of top scored student for each department\n",
      "10. Display name and department of top scored female student for each department\n",
      "11. List names of students who scored greater than a given GPA\n",
      "12. Show frequent student names\n",
      "13. Show total number of students in each department\n",
      "14. EXIT\n"
     ]
    },
    {
     "name": "stdin",
     "output_type": "stream",
     "text": [
      "\n",
      " Enter your choice:  5\n"
     ]
    },
    {
     "name": "stdout",
     "output_type": "stream",
     "text": [
      "Student database:\n",
      " ID: DDU140001\n",
      " Name: Abreham Tola\n",
      " Gender: M\n",
      " Department: CS\n",
      " GPA: 3.5\n",
      "******************************\n",
      " ID: DDU140002\n",
      " Name: Blen Tariku\n",
      " Gender: F\n",
      " Department: SE\n",
      " GPA: 2.9\n",
      "******************************\n",
      " ID: DDU140003\n",
      " Name: Getachew Megeresa\n",
      " Gender: M\n",
      " Department: Law\n",
      " GPA: 4.0\n",
      "******************************\n",
      " ID: DDU140004\n",
      " Name: Tesfu Seyfe\n",
      " Gender: M\n",
      " Department: CS\n",
      " GPA: 3.4\n",
      "******************************\n",
      "*************************************STUDENT MANAGEMENT SYSTEM*************************************\n",
      "\n",
      " Select your choice\n",
      "1. Register a new student\n",
      "2. Search for a student\n",
      "3. Update student GPA\n",
      "4. Update student Name\n",
      "5. Display all students\n",
      "6. Delete student by ID\n",
      "7. Count and display total number of students\n",
      "8. Count Total Number of male and female students\n",
      "9. Display name and department of top scored student for each department\n",
      "10. Display name and department of top scored female student for each department\n",
      "11. List names of students who scored greater than a given GPA\n",
      "12. Show frequent student names\n",
      "13. Show total number of students in each department\n",
      "14. EXIT\n"
     ]
    },
    {
     "name": "stdin",
     "output_type": "stream",
     "text": [
      "\n",
      " Enter your choice:  6\n",
      "Enter student ID:  DDU140003\n"
     ]
    },
    {
     "name": "stdout",
     "output_type": "stream",
     "text": [
      "Student with ID DDU140003 deleted successfully.\n",
      "*************************************STUDENT MANAGEMENT SYSTEM*************************************\n",
      "\n",
      " Select your choice\n",
      "1. Register a new student\n",
      "2. Search for a student\n",
      "3. Update student GPA\n",
      "4. Update student Name\n",
      "5. Display all students\n",
      "6. Delete student by ID\n",
      "7. Count and display total number of students\n",
      "8. Count Total Number of male and female students\n",
      "9. Display name and department of top scored student for each department\n",
      "10. Display name and department of top scored female student for each department\n",
      "11. List names of students who scored greater than a given GPA\n",
      "12. Show frequent student names\n",
      "13. Show total number of students in each department\n",
      "14. EXIT\n"
     ]
    },
    {
     "name": "stdin",
     "output_type": "stream",
     "text": [
      "\n",
      " Enter your choice:  5\n"
     ]
    },
    {
     "name": "stdout",
     "output_type": "stream",
     "text": [
      "Student database:\n",
      " ID: DDU140001\n",
      " Name: Abreham Tola\n",
      " Gender: M\n",
      " Department: CS\n",
      " GPA: 3.5\n",
      "******************************\n",
      " ID: DDU140002\n",
      " Name: Blen Tariku\n",
      " Gender: F\n",
      " Department: SE\n",
      " GPA: 2.9\n",
      "******************************\n",
      " ID: DDU140004\n",
      " Name: Tesfu Seyfe\n",
      " Gender: M\n",
      " Department: CS\n",
      " GPA: 3.4\n",
      "******************************\n",
      "*************************************STUDENT MANAGEMENT SYSTEM*************************************\n",
      "\n",
      " Select your choice\n",
      "1. Register a new student\n",
      "2. Search for a student\n",
      "3. Update student GPA\n",
      "4. Update student Name\n",
      "5. Display all students\n",
      "6. Delete student by ID\n",
      "7. Count and display total number of students\n",
      "8. Count Total Number of male and female students\n",
      "9. Display name and department of top scored student for each department\n",
      "10. Display name and department of top scored female student for each department\n",
      "11. List names of students who scored greater than a given GPA\n",
      "12. Show frequent student names\n",
      "13. Show total number of students in each department\n",
      "14. EXIT\n"
     ]
    },
    {
     "name": "stdin",
     "output_type": "stream",
     "text": [
      "\n",
      " Enter your choice:  7\n"
     ]
    },
    {
     "name": "stdout",
     "output_type": "stream",
     "text": [
      "\n",
      "*****************\n",
      "Total number of Students are 3\n",
      "*****************\n",
      "\n",
      "*************************************STUDENT MANAGEMENT SYSTEM*************************************\n",
      "\n",
      " Select your choice\n",
      "1. Register a new student\n",
      "2. Search for a student\n",
      "3. Update student GPA\n",
      "4. Update student Name\n",
      "5. Display all students\n",
      "6. Delete student by ID\n",
      "7. Count and display total number of students\n",
      "8. Count Total Number of male and female students\n",
      "9. Display name and department of top scored student for each department\n",
      "10. Display name and department of top scored female student for each department\n",
      "11. List names of students who scored greater than a given GPA\n",
      "12. Show frequent student names\n",
      "13. Show total number of students in each department\n",
      "14. EXIT\n"
     ]
    },
    {
     "name": "stdin",
     "output_type": "stream",
     "text": [
      "\n",
      " Enter your choice:  8\n"
     ]
    },
    {
     "name": "stdout",
     "output_type": "stream",
     "text": [
      "\n",
      "*****************\n",
      "Total number of Male Students are 2\n",
      "Total number of Female Students are 1\n",
      "*****************\n",
      "\n",
      "*************************************STUDENT MANAGEMENT SYSTEM*************************************\n",
      "\n",
      " Select your choice\n",
      "1. Register a new student\n",
      "2. Search for a student\n",
      "3. Update student GPA\n",
      "4. Update student Name\n",
      "5. Display all students\n",
      "6. Delete student by ID\n",
      "7. Count and display total number of students\n",
      "8. Count Total Number of male and female students\n",
      "9. Display name and department of top scored student for each department\n",
      "10. Display name and department of top scored female student for each department\n",
      "11. List names of students who scored greater than a given GPA\n",
      "12. Show frequent student names\n",
      "13. Show total number of students in each department\n",
      "14. EXIT\n"
     ]
    },
    {
     "name": "stdin",
     "output_type": "stream",
     "text": [
      "\n",
      " Enter your choice:  9\n"
     ]
    },
    {
     "name": "stdout",
     "output_type": "stream",
     "text": [
      "######   Top-Scoring Students from Department   ######\n"
     ]
    },
    {
     "name": "stdin",
     "output_type": "stream",
     "text": [
      "Enter the Department:  CS\n"
     ]
    },
    {
     "name": "stdout",
     "output_type": "stream",
     "text": [
      "******************************\n",
      "The Top Student from CS Department is Abreham Tola\n",
      "Top GPA 3.5\n",
      "******************************\n",
      "*************************************STUDENT MANAGEMENT SYSTEM*************************************\n",
      "\n",
      " Select your choice\n",
      "1. Register a new student\n",
      "2. Search for a student\n",
      "3. Update student GPA\n",
      "4. Update student Name\n",
      "5. Display all students\n",
      "6. Delete student by ID\n",
      "7. Count and display total number of students\n",
      "8. Count Total Number of male and female students\n",
      "9. Display name and department of top scored student for each department\n",
      "10. Display name and department of top scored female student for each department\n",
      "11. List names of students who scored greater than a given GPA\n",
      "12. Show frequent student names\n",
      "13. Show total number of students in each department\n",
      "14. EXIT\n"
     ]
    },
    {
     "name": "stdin",
     "output_type": "stream",
     "text": [
      "\n",
      " Enter your choice:  10\n"
     ]
    },
    {
     "name": "stdout",
     "output_type": "stream",
     "text": [
      "######   Top-Scoring Female Students from Department   ######\n"
     ]
    },
    {
     "name": "stdin",
     "output_type": "stream",
     "text": [
      "Enter the Department:  SE\n"
     ]
    },
    {
     "name": "stdout",
     "output_type": "stream",
     "text": [
      "******************************\n",
      "The Top Female Student from SE Department is Blen Tariku\n",
      "Top GPA 2.9\n",
      "******************************\n",
      "*************************************STUDENT MANAGEMENT SYSTEM*************************************\n",
      "\n",
      " Select your choice\n",
      "1. Register a new student\n",
      "2. Search for a student\n",
      "3. Update student GPA\n",
      "4. Update student Name\n",
      "5. Display all students\n",
      "6. Delete student by ID\n",
      "7. Count and display total number of students\n",
      "8. Count Total Number of male and female students\n",
      "9. Display name and department of top scored student for each department\n",
      "10. Display name and department of top scored female student for each department\n",
      "11. List names of students who scored greater than a given GPA\n",
      "12. Show frequent student names\n",
      "13. Show total number of students in each department\n",
      "14. EXIT\n"
     ]
    },
    {
     "name": "stdin",
     "output_type": "stream",
     "text": [
      "\n",
      " Enter your choice:  11\n",
      "Enter student GPA to search:  3.0\n"
     ]
    },
    {
     "name": "stdout",
     "output_type": "stream",
     "text": [
      "##### Data found ###########\n",
      "Name: Abreham Tola, GPA: 3.5\n",
      "\n",
      "##### Data found ###########\n",
      "Name: Tesfu Seyfe, GPA: 3.4\n",
      "\n",
      "*************************************STUDENT MANAGEMENT SYSTEM*************************************\n",
      "\n",
      " Select your choice\n",
      "1. Register a new student\n",
      "2. Search for a student\n",
      "3. Update student GPA\n",
      "4. Update student Name\n",
      "5. Display all students\n",
      "6. Delete student by ID\n",
      "7. Count and display total number of students\n",
      "8. Count Total Number of male and female students\n",
      "9. Display name and department of top scored student for each department\n",
      "10. Display name and department of top scored female student for each department\n",
      "11. List names of students who scored greater than a given GPA\n",
      "12. Show frequent student names\n",
      "13. Show total number of students in each department\n",
      "14. EXIT\n"
     ]
    },
    {
     "name": "stdin",
     "output_type": "stream",
     "text": [
      "\n",
      " Enter your choice:  12\n"
     ]
    },
    {
     "name": "stdout",
     "output_type": "stream",
     "text": [
      "****Frequent Student Name in File****\n",
      "*************************************STUDENT MANAGEMENT SYSTEM*************************************\n",
      "\n",
      " Select your choice\n",
      "1. Register a new student\n",
      "2. Search for a student\n",
      "3. Update student GPA\n",
      "4. Update student Name\n",
      "5. Display all students\n",
      "6. Delete student by ID\n",
      "7. Count and display total number of students\n",
      "8. Count Total Number of male and female students\n",
      "9. Display name and department of top scored student for each department\n",
      "10. Display name and department of top scored female student for each department\n",
      "11. List names of students who scored greater than a given GPA\n",
      "12. Show frequent student names\n",
      "13. Show total number of students in each department\n",
      "14. EXIT\n"
     ]
    },
    {
     "name": "stdin",
     "output_type": "stream",
     "text": [
      "\n",
      " Enter your choice:  1\n"
     ]
    },
    {
     "name": "stdout",
     "output_type": "stream",
     "text": [
      "Registration form\n"
     ]
    },
    {
     "name": "stdin",
     "output_type": "stream",
     "text": [
      "Enter the number of students:  1\n",
      "Enter student id:  DDU140005\n",
      "Enter student name:  Tesfu Seyfe\n",
      "Enter student GPA:  1.5\n",
      "Enter the department:  CS\n",
      "Enter student gender(M/F):  M\n"
     ]
    },
    {
     "name": "stdout",
     "output_type": "stream",
     "text": [
      "Registered successfully continue if any...\n",
      "********************\n",
      "*************************************STUDENT MANAGEMENT SYSTEM*************************************\n",
      "\n",
      " Select your choice\n",
      "1. Register a new student\n",
      "2. Search for a student\n",
      "3. Update student GPA\n",
      "4. Update student Name\n",
      "5. Display all students\n",
      "6. Delete student by ID\n",
      "7. Count and display total number of students\n",
      "8. Count Total Number of male and female students\n",
      "9. Display name and department of top scored student for each department\n",
      "10. Display name and department of top scored female student for each department\n",
      "11. List names of students who scored greater than a given GPA\n",
      "12. Show frequent student names\n",
      "13. Show total number of students in each department\n",
      "14. EXIT\n"
     ]
    },
    {
     "name": "stdin",
     "output_type": "stream",
     "text": [
      "\n",
      " Enter your choice:  12\n"
     ]
    },
    {
     "name": "stdout",
     "output_type": "stream",
     "text": [
      "****Frequent Student Name in File****\n",
      "Tesfu Seyfe: with frequency 2\n",
      "*************************************STUDENT MANAGEMENT SYSTEM*************************************\n",
      "\n",
      " Select your choice\n",
      "1. Register a new student\n",
      "2. Search for a student\n",
      "3. Update student GPA\n",
      "4. Update student Name\n",
      "5. Display all students\n",
      "6. Delete student by ID\n",
      "7. Count and display total number of students\n",
      "8. Count Total Number of male and female students\n",
      "9. Display name and department of top scored student for each department\n",
      "10. Display name and department of top scored female student for each department\n",
      "11. List names of students who scored greater than a given GPA\n",
      "12. Show frequent student names\n",
      "13. Show total number of students in each department\n",
      "14. EXIT\n"
     ]
    },
    {
     "name": "stdin",
     "output_type": "stream",
     "text": [
      "\n",
      " Enter your choice:  13\n",
      "Enter the Name of the Department:  CS\n"
     ]
    },
    {
     "name": "stdout",
     "output_type": "stream",
     "text": [
      "\n",
      " ###### Total Number of Students in CS Department ######\n",
      "\n",
      "*****************\n",
      "Total number of Students are 3 in department of CS\n",
      "*****************\n",
      "\n",
      "*************************************STUDENT MANAGEMENT SYSTEM*************************************\n",
      "\n",
      " Select your choice\n",
      "1. Register a new student\n",
      "2. Search for a student\n",
      "3. Update student GPA\n",
      "4. Update student Name\n",
      "5. Display all students\n",
      "6. Delete student by ID\n",
      "7. Count and display total number of students\n",
      "8. Count Total Number of male and female students\n",
      "9. Display name and department of top scored student for each department\n",
      "10. Display name and department of top scored female student for each department\n",
      "11. List names of students who scored greater than a given GPA\n",
      "12. Show frequent student names\n",
      "13. Show total number of students in each department\n",
      "14. EXIT\n"
     ]
    },
    {
     "name": "stdin",
     "output_type": "stream",
     "text": [
      "\n",
      " Enter your choice:  14\n"
     ]
    }
   ],
   "source": [
    "# Function to display the menu and handle user choices\n",
    "try:\n",
    "    def menu():\n",
    "        print(\"*************************************STUDENT MANAGEMENT SYSTEM*************************************\")\n",
    "        print(\"\\n Select your choice\")\n",
    "        print(\"1. Register a new student\")\n",
    "        print(\"2. Search for a student\")\n",
    "        print(\"3. Update student GPA\")\n",
    "        print(\"4. Update student Name\")\n",
    "        print(\"5. Display all students\")\n",
    "        print(\"6. Delete student by ID\")\n",
    "        print(\"7. Count and display total number of students\")\n",
    "        print(\"8. Count Total Number of male and female students\")\n",
    "        print(\"9. Display name and department of top scored student for each department\")\n",
    "        print(\"10. Display name and department of top scored female student for each department\")\n",
    "        print(\"11. List names of students who scored greater than a given GPA\")\n",
    "        print(\"12. Show frequent student names\")\n",
    "        print(\"13. Show total number of students in each department\")\n",
    "        print(\"14. EXIT\")\n",
    "        try:\n",
    "            choice = int(input(\"\\n Enter your choice: \"))\n",
    "        # User choices to corresponding functions\n",
    "            if choice==1:\n",
    "                register_student()\n",
    "            elif choice==2:\n",
    "                search_student()\n",
    "            elif choice==3:\n",
    "                update_gpa()\n",
    "            elif choice==4:\n",
    "                update_name()\n",
    "            elif choice==5:\n",
    "                show_all()\n",
    "            elif choice==6:\n",
    "                delete_info()\n",
    "            elif choice==7:\n",
    "                total_num_student()\n",
    "            elif choice==8:\n",
    "                total_num_stud_gender()\n",
    "            elif choice==9:\n",
    "                top_score_student()\n",
    "            elif choice==10:\n",
    "                top_score_female()\n",
    "            elif choice==11:\n",
    "                search_students_GPA()\n",
    "            elif choice==12:\n",
    "                frequent_name()\n",
    "            elif choice==13:\n",
    "                total_num_stud_dep()\n",
    "            elif choice==14:\n",
    "                SystemExit\n",
    "            else:\n",
    "                print(\" invalid choice\")\n",
    "                menu()\n",
    "        except Exception:\n",
    "            print(\"Invalid input! Please Enter again \")\n",
    "            menu()\n",
    "        \n",
    "    # Function to register a new student\n",
    "    def register_student():\n",
    "        print(\"Registration form\")\n",
    "        num_students = int(input(\"Enter the number of students: \"))\n",
    "        for i in range(1, num_students + 1):\n",
    "            with open(\"student_db.txt\", 'a+') as file:\n",
    "                st_id = input(\"Enter student id: \")\n",
    "                file.seek(0)\n",
    "                for line in file:\n",
    "                    stid,name,gender,dep,gpa = line.strip().split(\";\")\n",
    "                    if stid == st_id:\n",
    "                        print(\"the ID is already exist enter new ID...\")\n",
    "                        st_id = input(\"Enter student id: \")\n",
    "                st_name = input(\"Enter student name: \")\n",
    "                st_gpa = float(input(\"Enter student GPA: \"))\n",
    "                if st_gpa>4 or st_gpa<0:\n",
    "                    print(\"Please enter the Correct  GPA ...\")\n",
    "                    st_gpa = float(input(\"Enter student GPA: \"))\n",
    "                st_dep = input(\"Enter the department: \")\n",
    "                st_gen = input(\"Enter student gender(M/F): \")\n",
    "                file.write(f\"{st_id};{st_name};{st_gen};{st_dep};{st_gpa}\\n\")\n",
    "                \n",
    "                print(\"Registered successfully continue if any...\")\n",
    "        file.close()\n",
    "        \n",
    "        print(\"********************\")\n",
    "        menu()\n",
    "\n",
    "    # Function to search for a student by ID\n",
    "    def search_student():\n",
    "        found = False\n",
    "        id_search = input(\"Enter student ID to search: \")\n",
    "        with open(\"student_db.txt\", 'r') as file:\n",
    "            for line in file:\n",
    "                if line.strip:\n",
    "                    stid,name,gender,dep,gpa = line.split(\";\")\n",
    "                    if stid == id_search:\n",
    "                        print(\"##### Data found ###########\")\n",
    "                        print(f\"Name: {name}, GPA: {gpa}, Gender: {gender}\")\n",
    "                        found = True\n",
    "                        break\n",
    "        if not found:\n",
    "            print(\"Student with ID {id_search} does not exist\")\n",
    "        menu()\n",
    "\n",
    "    # Function to update student GPA\n",
    "    def update_gpa():\n",
    "        st_id = input(\"Enter student ID: \")\n",
    "        updated = False\n",
    "        lines = []\n",
    "        with open(\"student_db.txt\", 'r+') as file:\n",
    "            for line in file:\n",
    "                # Check if the line is not empty\n",
    "                if line.strip():\n",
    "                    stid, name, gender, dep, gpa = line.strip().split(\";\")\n",
    "                    if st_id == stid:\n",
    "                        new_gpa = float(input(\"Enter corrected New GPA: \"))\n",
    "                        if new_gpa > 4 or new_gpa < 0:\n",
    "                            print(\"Please enter the Correct GPA ...\")\n",
    "                            new_gpa = float(input(\"Enter corrected New GPA: \"))\n",
    "                        line = f\"{stid};{name};{gender};{dep};{new_gpa}\\n\"\n",
    "                        updated = True\n",
    "                        print(f\"Data of student {name} updated successfully!\")\n",
    "                lines.append(line)\n",
    "        if not updated:\n",
    "            print(f\"Student with ID {st_id} not found.\")\n",
    "        else:\n",
    "            with open(\"student_db.txt\", 'w') as file:\n",
    "                file.writelines(lines)\n",
    "        menu()\n",
    "\n",
    "    # Function to display all students\n",
    "    def show_all():\n",
    "        print(\"Student database:\")\n",
    "        with open(\"student_db.txt\", 'r') as file:\n",
    "            for line in file:\n",
    "                if line.strip():\n",
    "                    stid,name,gender,dep,gpa = line.strip().split(\";\")\n",
    "                    print(f\" ID: {stid}\\n Name: {name}\\n Gender: {gender}\\n Department: {dep}\\n GPA: {gpa}\")\n",
    "                    print(\"******************************\")\n",
    "        menu()\n",
    "\n",
    "    # Function to update student Name\n",
    "    def update_name():\n",
    "        st_id = input(\"Enter student ID: \")\n",
    "        updated = False\n",
    "        lines = []\n",
    "        with open(\"student_db.txt\", 'r') as file:\n",
    "            for line in file:\n",
    "                # Check if the line is not empty\n",
    "                if line.strip():\n",
    "                    stid, current_name, gender, dep, gpa = line.strip().split(\";\")\n",
    "                    if st_id == stid:\n",
    "                        new_name = input(\"Enter corrected New Name: \")\n",
    "                        line = f\"{stid};{new_name};{gender};{dep};{gpa}\\n\"\n",
    "                        updated = True\n",
    "                        print(f\"Data of student {st_id} updated successfully!\")\n",
    "                lines.append(line)\n",
    "            else:\n",
    "                print(\"error in the update name which is there is empty space\")\n",
    "        if not updated:\n",
    "            print(f\"Student with ID {st_id} not found.\")\n",
    "        else:\n",
    "            with open(\"student_db.txt\", 'w') as file:\n",
    "                file.writelines(lines)\n",
    "        menu()\n",
    "\n",
    "    # Function to Delete Student information\n",
    "    def delete_info():\n",
    "        st_id = input(\"Enter student ID: \")\n",
    "        deleted = False\n",
    "        lines = []\n",
    "        with open(\"student_db.txt\", 'r') as file:\n",
    "            for line in file:\n",
    "                stid,name,gender,dep,gpa = line.strip().split(\";\")\n",
    "                if st_id != stid:\n",
    "                    lines.append(line)\n",
    "                else:\n",
    "                    deleted=True\n",
    "        if not deleted:\n",
    "            print(f\"Student with ID {st_id} not found.\")\n",
    "        else:\n",
    "            with open(\"student_db.txt\", 'w') as file:\n",
    "                file.writelines(lines)\n",
    "                print(f\"Student with ID {st_id} deleted successfully.\")\n",
    "        menu()\n",
    "\n",
    "    # Function to Display total number of Students\n",
    "    def total_num_student ():\n",
    "        count=0\n",
    "        with open(\"student_db.txt\",'r') as file:\n",
    "            for line in file:\n",
    "                count+=1\n",
    "        print(\"\\n*****************\")\n",
    "        print(f\"Total number of Students are {count}\")\n",
    "        print(\"*****************\\n\")\n",
    "        menu()\n",
    "\n",
    "    #Function to Display total number of students based on gender\n",
    "    def total_num_stud_gender():\n",
    "        m=0\n",
    "        f=0\n",
    "        with open(\"student_db.txt\",'r') as file:\n",
    "            for line in file:\n",
    "                stid,name,gender,dep,gpa = line.strip().split(\";\")\n",
    "                if gender == 'M':\n",
    "                    m+=1\n",
    "                else:\n",
    "                    f+=1\n",
    "        print(\"\\n*****************\")\n",
    "        print(f\"Total number of Male Students are {m}\")\n",
    "        print(f\"Total number of Female Students are {f}\")\n",
    "        print(\"*****************\\n\")\n",
    "        menu()\n",
    "\n",
    "    # Function to Display top scorer students in the Department\n",
    "    def top_score_student():\n",
    "        top_gpa=0\n",
    "        top_stud=\"\"\n",
    "        print(\"######   Top-Scoring Students from Department   ######\")\n",
    "        department=input(\"Enter the Department: \")\n",
    "        with open(\"student_db.txt\",'r')as file:\n",
    "            for line in file:\n",
    "                stid,name,gender,dep,gpa = line.strip().split(\";\")\n",
    "                if dep==department and float(gpa) >= float(top_gpa):\n",
    "                    top_gpa=gpa\n",
    "                    top_stud=name\n",
    "            print(\"******************************\")\n",
    "            print(f\"The Top Student from {department} Department is {top_stud}\")\n",
    "            print(f\"Top GPA {top_gpa}\")\n",
    "            print(\"******************************\")\n",
    "        menu()\n",
    "\n",
    "    # Function to Display top scorer Female Students in the Department\n",
    "    def top_score_female():\n",
    "        top_gpa=0\n",
    "        top_stud=\"\"\n",
    "        print(\"######   Top-Scoring Female Students from Department   ######\")\n",
    "        department=input(\"Enter the Department: \")\n",
    "        with open(\"student_db.txt\",'r')as file:\n",
    "            for line in file:\n",
    "                stid,name,gender,dep,gpa = line.strip().split(\";\")\n",
    "                if dep==department and float(gpa) >= float(top_gpa) and gender.capitalize()=='F':\n",
    "                    top_gpa=gpa\n",
    "                    top_stud=name\n",
    "            print(\"******************************\")\n",
    "            print(f\"The Top Female Student from {department} Department is {top_stud}\")\n",
    "            print(f\"Top GPA {top_gpa}\")\n",
    "            print(\"******************************\")\n",
    "        menu()\n",
    "\n",
    "    # Function to Search Students based on their GPA\n",
    "    def search_students_GPA():\n",
    "        found = False\n",
    "        gpa_search = float(input(\"Enter student GPA to search: \"))\n",
    "        with open(\"student_db.txt\", 'r') as file:\n",
    "            for line in file:\n",
    "                if line.strip:\n",
    "                    stid,name,gender,dep,gpa = line.split(\";\")\n",
    "                    if float(gpa) >= float(gpa_search):\n",
    "                        print(\"##### Data found ###########\")\n",
    "                        print(f\"Name: {name}, GPA: {gpa}\")\n",
    "                        found = True\n",
    "                        \n",
    "        if not found:\n",
    "            print(f\"Student who scored greater than {gpa_search} GPA does not exist\")\n",
    "        menu()\n",
    "\n",
    "    # Function to Display Frequent Student name for student_db.txt\n",
    "    def frequent_name():\n",
    "        print(\"****Frequent Student Name in File****\")\n",
    "        freq_counter={}\n",
    "        with open(\"student_db.txt\", 'r') as file:\n",
    "            for line in file:\n",
    "                if line.strip:\n",
    "                    stid,name,gender,dep,gpa = line.split(\";\")\n",
    "                    namekey=name\n",
    "                    if namekey in freq_counter:\n",
    "                        freq_counter[namekey]+=1\n",
    "                    else:\n",
    "                        freq_counter[namekey]=1\n",
    "            for name, val in freq_counter.items():\n",
    "                if val>1:\n",
    "                    print(f\"{name}: with frequency {val}\")\n",
    "        menu()\n",
    "\n",
    "    # Function to count total number of students for a given department\n",
    "    def total_num_stud_dep():\n",
    "        count=0\n",
    "        department=input(\"Enter the Name of the Department: \")\n",
    "        print(f\"\\n ###### Total Number of Students in {department} Department ######\")\n",
    "        with open(\"student_db.txt\",'r') as file:\n",
    "            for line in file:\n",
    "                stid,name,gender,dep,gpa = line.strip().split(\";\")\n",
    "                if dep == department:\n",
    "                    count+=1\n",
    "        print(\"\\n*****************\")\n",
    "        print(f\"Total number of Students are {count} in department of {department}\")\n",
    "        print(\"*****************\\n\")\n",
    "        menu()\n",
    "except (ValueError,Exception,RuntimeError) as error:\n",
    "    print(f\"A {type(error).__name__} has occurred\")\n",
    "    menu()\n",
    "if __name__ == \"__main__\":\n",
    "    menu()\n"
   ]
  },
  {
   "cell_type": "code",
   "execution_count": null,
   "id": "a8bcf0fc-15cf-4ff0-84e3-5930df1491a6",
   "metadata": {},
   "outputs": [],
   "source": []
  }
 ],
 "metadata": {
  "kernelspec": {
   "display_name": "Python 3 (ipykernel)",
   "language": "python",
   "name": "python3"
  },
  "language_info": {
   "codemirror_mode": {
    "name": "ipython",
    "version": 3
   },
   "file_extension": ".py",
   "mimetype": "text/x-python",
   "name": "python",
   "nbconvert_exporter": "python",
   "pygments_lexer": "ipython3",
   "version": "3.11.7"
  }
 },
 "nbformat": 4,
 "nbformat_minor": 5
}
